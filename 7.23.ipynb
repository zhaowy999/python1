{
 "cells": [
  {
   "cell_type": "markdown",
   "metadata": {},
   "source": [
    "# 对象和类\n",
    "- 一个学生，一张桌子，一个圆都是对象\n",
    "- 对象是类的一个实例，你可以创建多个对象，创建类的一个实例过程被称为实例化，\n",
    "- 在Python中对象就是实例，而实例就是对象"
   ]
  },
  {
   "cell_type": "code",
   "execution_count": null,
   "metadata": {},
   "outputs": [],
   "source": []
  },
  {
   "cell_type": "markdown",
   "metadata": {},
   "source": [
    "## 定义类\n",
    "class ClassName:\n",
    "\n",
    "    do something\n",
    "    \n",
    "- class 类的表示与def 一样\n",
    "- 类名最好使用驼峰式\n",
    "- 在Python2中类是需要继承基类object的，在Python中默认继承，可写可不写\n",
    "- 可以将普通代码理解为皮肤，而函数可以理解为内衣，那么类可以理解为外套"
   ]
  },
  {
   "cell_type": "markdown",
   "metadata": {},
   "source": [
    "## 定义一个不含初始化__init__的简单类\n",
    "class ClassName:\n",
    "\n",
    "    joker = “Home”\n",
    "    \n",
    "    def func():\n",
    "        print('Worker')\n",
    "    \n",
    "- 尽量少使用"
   ]
  },
  {
   "cell_type": "code",
   "execution_count": 6,
   "metadata": {},
   "outputs": [],
   "source": [
    "class liumou:             #类必须初始化，使用self初始化自身\n",
    "    def __init__(self):\n",
    "        print('初始化')\n",
    "    def Print_(self):\n",
    "        print('hhhh')        #类里面所有的函数中的第一个变量不再是参数，而是印记"
   ]
  },
  {
   "cell_type": "code",
   "execution_count": 9,
   "metadata": {},
   "outputs": [
    {
     "name": "stdout",
     "output_type": "stream",
     "text": [
      "初始化\n"
     ]
    }
   ],
   "source": [
    "zhao = liumou()               #（）代表直接走初始化函数"
   ]
  },
  {
   "cell_type": "code",
   "execution_count": 10,
   "metadata": {},
   "outputs": [
    {
     "name": "stdout",
     "output_type": "stream",
     "text": [
      "hhhh\n"
     ]
    }
   ],
   "source": [
    "zhao.Print_()"
   ]
  },
  {
   "cell_type": "code",
   "execution_count": 12,
   "metadata": {},
   "outputs": [],
   "source": [
    "class liumou:             #类必须初始化，使用self初始化自身\n",
    "    def __init__(self):\n",
    "        print('初始化')\n",
    "    def SUM(self,n1,n2):\n",
    "        return n1+n2\n",
    "    def cheng(self,n1,n2):\n",
    "        return n1*n2"
   ]
  },
  {
   "cell_type": "code",
   "execution_count": 13,
   "metadata": {},
   "outputs": [
    {
     "name": "stdout",
     "output_type": "stream",
     "text": [
      "初始化\n"
     ]
    }
   ],
   "source": [
    "z = liumou()"
   ]
  },
  {
   "cell_type": "code",
   "execution_count": 14,
   "metadata": {},
   "outputs": [
    {
     "data": {
      "text/plain": [
       "3"
      ]
     },
     "execution_count": 14,
     "metadata": {},
     "output_type": "execute_result"
    }
   ],
   "source": [
    "z.SUM(1,2)"
   ]
  },
  {
   "cell_type": "code",
   "execution_count": 20,
   "metadata": {},
   "outputs": [
    {
     "data": {
      "text/plain": [
       "2"
      ]
     },
     "execution_count": 20,
     "metadata": {},
     "output_type": "execute_result"
    }
   ],
   "source": [
    "z.cheng(1,2)"
   ]
  },
  {
   "cell_type": "code",
   "execution_count": 16,
   "metadata": {},
   "outputs": [],
   "source": [
    "class liumou:             #类必须初始化，使用self初始化自身\n",
    "    def __init__(self,n1,n2):\n",
    "        print('初始化')\n",
    "        self.n1 = n1\n",
    "        self.n2 = n2               #在类中，如果有参数需要多次使用，那么就可以将其设置为共享参数\n",
    "    def SUM(self):\n",
    "        return self.n1+self.n2\n",
    "    def cheng(self):\n",
    "        return self.n1*self.n2"
   ]
  },
  {
   "cell_type": "code",
   "execution_count": 17,
   "metadata": {},
   "outputs": [
    {
     "name": "stdout",
     "output_type": "stream",
     "text": [
      "初始化\n"
     ]
    }
   ],
   "source": [
    "c = liumou(1,2)"
   ]
  },
  {
   "cell_type": "code",
   "execution_count": 19,
   "metadata": {},
   "outputs": [
    {
     "data": {
      "text/plain": [
       "3"
      ]
     },
     "execution_count": 19,
     "metadata": {},
     "output_type": "execute_result"
    }
   ],
   "source": [
    "c.SUM()"
   ]
  },
  {
   "cell_type": "code",
   "execution_count": 21,
   "metadata": {},
   "outputs": [
    {
     "data": {
      "text/plain": [
       "2"
      ]
     },
     "execution_count": 21,
     "metadata": {},
     "output_type": "execute_result"
    }
   ],
   "source": [
    "c.cheng()"
   ]
  },
  {
   "cell_type": "markdown",
   "metadata": {},
   "source": [
    "#输入一个是判断是奇数还是偶数，输入一个年份判断是闰年还是平年"
   ]
  },
  {
   "cell_type": "code",
   "execution_count": 26,
   "metadata": {},
   "outputs": [],
   "source": [
    "class panduan():\n",
    "    def __init__(self):\n",
    "        print('初始化')\n",
    "    def jiou(self,n):\n",
    "        if n%2==0:\n",
    "            print(n,'事偶数')\n",
    "        else:\n",
    "            print('是奇数')\n",
    "    def nianfen(self,n):\n",
    "        if n%4 == 0 and n %100 != 0 or n%400 ==0:\n",
    "            print(n,'年是闰年')\n",
    "        else:\n",
    "            print(n,'年是平年')"
   ]
  },
  {
   "cell_type": "code",
   "execution_count": 27,
   "metadata": {},
   "outputs": [
    {
     "name": "stdout",
     "output_type": "stream",
     "text": [
      "初始化\n"
     ]
    }
   ],
   "source": [
    "z = panduan()"
   ]
  },
  {
   "cell_type": "code",
   "execution_count": 28,
   "metadata": {},
   "outputs": [
    {
     "name": "stdout",
     "output_type": "stream",
     "text": [
      "是奇数\n"
     ]
    }
   ],
   "source": [
    "z.jiou(1)"
   ]
  },
  {
   "cell_type": "code",
   "execution_count": 29,
   "metadata": {},
   "outputs": [
    {
     "name": "stdout",
     "output_type": "stream",
     "text": [
      "2010 年是平年\n"
     ]
    }
   ],
   "source": [
    "z.nianfen(2010)"
   ]
  },
  {
   "cell_type": "markdown",
   "metadata": {},
   "source": [
    "\n",
    "\n",
    "## 定义一个标准类\n",
    "- __init__ 代表初始化，可以初始化任何动作\n",
    "- 此时类调用要使用()，其中（）可以理解为开始初始化\n",
    "- 初始化内的元素，类中其他的函数可以共享\n",
    "![](../Photo/85.png)"
   ]
  },
  {
   "cell_type": "code",
   "execution_count": null,
   "metadata": {},
   "outputs": [],
   "source": []
  },
  {
   "cell_type": "markdown",
   "metadata": {},
   "source": [
    "- Circle 和 className_ 的第一个区别有 __init__ 这个函数\n",
    "- 。。。。   第二个区别，类中的每一个函数都有self的这个“参数”"
   ]
  },
  {
   "cell_type": "markdown",
   "metadata": {},
   "source": [
    "## 何为self？\n",
    "- self 是指向对象本身的参数\n",
    "- self 只是一个命名规则，其实可以改变的，但是我们约定俗成的是self，也便于理解\n",
    "- 使用了self就可以访问类中定义的成员\n",
    "<img src=\"../Photo/86.png\"></img>"
   ]
  },
  {
   "cell_type": "markdown",
   "metadata": {},
   "source": [
    "## 使用类 Cirlcle"
   ]
  },
  {
   "cell_type": "markdown",
   "metadata": {},
   "source": [
    "## 类的传参\n",
    "- class ClassName:\n",
    "    \n",
    "        def __init__(self, para1,para2...)：\n",
    "            \n",
    "            self.para1 = para1\n",
    "            \n",
    "            self.para2 = para2"
   ]
  },
  {
   "cell_type": "markdown",
   "metadata": {},
   "source": [
    "## EP:\n",
    "- A：定义一个类，类中含有两个功能：\n",
    "    - 1、产生3个随机数，获取最大值\n",
    "    - 2、产生3个随机数，获取最小值\n",
    "- B：定义一个类，（类中函数的嵌套使用）\n",
    "    - 1、第一个函数的功能为：输入一个数字\n",
    "    - 2、第二个函数的功能为：使用第一个函数中得到的数字进行平方处理\n",
    "    - 3、第三个函数的功能为：得到平方处理后的数字 - 原来输入的数字，并打印结果"
   ]
  },
  {
   "cell_type": "code",
   "execution_count": 53,
   "metadata": {},
   "outputs": [],
   "source": [
    "import random\n",
    "class gongneng:\n",
    "    def __init__(self):\n",
    "        print('初始化')\n",
    "    def zuida(self):\n",
    "        a,b,c = [random.randint(0,10) for i in range(3)]\n",
    "        print(a,b,c)\n",
    "        d = max(a,b,c)\n",
    "        print(d)\n",
    "    def zuixiao(self):\n",
    "        a,b,c = [random.randint(0,10) for i in range(3)]\n",
    "        print(a,b,c)\n",
    "        d = min(a,b,c)\n",
    "        print(d)"
   ]
  },
  {
   "cell_type": "code",
   "execution_count": 60,
   "metadata": {},
   "outputs": [],
   "source": [
    "import random\n",
    "class gongneng:\n",
    "    def __init__(self):\n",
    "        print('初始化')\n",
    "        self.a,self.b,self.c = [random.randint(0,10) for i in range(3)]\n",
    "    def zuida(self):\n",
    "        \n",
    "        print(self.a,self.b,self.c)\n",
    "        d = max(self.a,self.b,self.c)\n",
    "        print(d)\n",
    "    def zuixiao(self):\n",
    "        print(self.a,self.b,self.c)\n",
    "        d = min(self.a,self.b,self.c)\n",
    "        print(d)"
   ]
  },
  {
   "cell_type": "code",
   "execution_count": 61,
   "metadata": {},
   "outputs": [
    {
     "name": "stdout",
     "output_type": "stream",
     "text": [
      "初始化\n"
     ]
    }
   ],
   "source": [
    "z = gongneng()"
   ]
  },
  {
   "cell_type": "code",
   "execution_count": 62,
   "metadata": {},
   "outputs": [
    {
     "name": "stdout",
     "output_type": "stream",
     "text": [
      "8 4 5\n",
      "8\n"
     ]
    }
   ],
   "source": [
    "z.zuida()"
   ]
  },
  {
   "cell_type": "code",
   "execution_count": 63,
   "metadata": {},
   "outputs": [
    {
     "name": "stdout",
     "output_type": "stream",
     "text": [
      "8 4 5\n",
      "4\n"
     ]
    }
   ],
   "source": [
    "z.zuixiao()"
   ]
  },
  {
   "cell_type": "code",
   "execution_count": 86,
   "metadata": {},
   "outputs": [],
   "source": [
    "class gongshi():\n",
    "    def __init__(self):\n",
    "        print('初始化')\n",
    "        self.n = eval(input('>>'))\n",
    "    def pingfang(self):\n",
    "        n2 = self.n**2\n",
    "        print(n2)\n",
    "    def jian(self):\n",
    "        n3 = self.n**2 - self.n\n",
    "        print(n3)"
   ]
  },
  {
   "cell_type": "code",
   "execution_count": 87,
   "metadata": {},
   "outputs": [
    {
     "name": "stdout",
     "output_type": "stream",
     "text": [
      "初始化\n",
      ">>3\n"
     ]
    }
   ],
   "source": [
    "z = gongshi()"
   ]
  },
  {
   "cell_type": "code",
   "execution_count": 88,
   "metadata": {},
   "outputs": [
    {
     "name": "stdout",
     "output_type": "stream",
     "text": [
      "9\n"
     ]
    }
   ],
   "source": [
    "z.pingfang()"
   ]
  },
  {
   "cell_type": "code",
   "execution_count": 89,
   "metadata": {},
   "outputs": [
    {
     "name": "stdout",
     "output_type": "stream",
     "text": [
      "6\n"
     ]
    }
   ],
   "source": [
    "z.jian()"
   ]
  },
  {
   "cell_type": "markdown",
   "metadata": {},
   "source": [
    "QQ账号 密码 成功失败 验证码失败"
   ]
  },
  {
   "cell_type": "code",
   "execution_count": 1,
   "metadata": {},
   "outputs": [],
   "source": [
    "import random"
   ]
  },
  {
   "cell_type": "code",
   "execution_count": 6,
   "metadata": {},
   "outputs": [],
   "source": [
    "class qq():\n",
    "    def __init__(self):\n",
    "        \"\"\"\n",
    "        __init__\n",
    "        \"\"\"\n",
    "        self.zhanghao = 123\n",
    "        self.mima = 199911\n",
    "    def zhang(self):\n",
    "        self.z = eval(input('账号'))\n",
    "    def mim(self):\n",
    "        self.mi = eval(input('mima'))\n",
    "    def panduan(self):\n",
    "        if self.z == self.zhanghao and self.mi == self.mima:\n",
    "            print('正确')\n",
    "        else:\n",
    "            self.yanzheng()\n",
    "    def yanzheng(self):\n",
    "            a = random.randint(0,9)\n",
    "            b = random.randint(0,9)\n",
    "            c = random.randint(0,9)\n",
    "            d = random.randint(0,9)\n",
    "            print('验证码是',a,b,c,d)\n",
    "            while 1:\n",
    "                x,y,q,w = eval(input('输入验证码'))\n",
    "                if a ==x and b ==y and c==q and d==w:\n",
    "                    print('你失败了')\n",
    "                    break\n",
    "    def start(self):\n",
    "        self.zhang()\n",
    "        self.mim()\n",
    "        self.panduan()"
   ]
  },
  {
   "cell_type": "code",
   "execution_count": 7,
   "metadata": {},
   "outputs": [],
   "source": [
    "j = qq()"
   ]
  },
  {
   "cell_type": "code",
   "execution_count": 8,
   "metadata": {},
   "outputs": [
    {
     "name": "stdout",
     "output_type": "stream",
     "text": [
      "账号123\n",
      "mima3123\n",
      "验证码是 3 9 6 0\n",
      "输入验证码3,9,6,0\n",
      "你失败了\n"
     ]
    }
   ],
   "source": [
    "j.start()"
   ]
  },
  {
   "cell_type": "markdown",
   "metadata": {},
   "source": [
    "## 类的继承\n",
    "- 类的单继承\n",
    "- 类的多继承\n",
    "- 继承标识\n",
    ">  class SonClass(FatherClass):\n",
    "            \n",
    "            def __init__(self):\n",
    "            \n",
    "                FatherClass.__init__(self)"
   ]
  },
  {
   "cell_type": "code",
   "execution_count": 9,
   "metadata": {},
   "outputs": [],
   "source": [
    "class A:\n",
    "    def __init__(self):\n",
    "        self.a = 'a'\n",
    "    def a_(self):\n",
    "        print('class A')\n",
    "class B(A):\n",
    "    def __init__(self):\n",
    "        A.__init__(self)\n",
    "    def b_(self):\n",
    "        print(self.a)\n",
    "        self.a_()"
   ]
  },
  {
   "cell_type": "code",
   "execution_count": 10,
   "metadata": {},
   "outputs": [],
   "source": [
    "bb= B()"
   ]
  },
  {
   "cell_type": "code",
   "execution_count": 11,
   "metadata": {},
   "outputs": [
    {
     "name": "stdout",
     "output_type": "stream",
     "text": [
      "a\n",
      "class A\n"
     ]
    }
   ],
   "source": [
    "bb.b_()"
   ]
  },
  {
   "cell_type": "markdown",
   "metadata": {},
   "source": [
    "## 私有数据域(私有变量，或者私有函数)\n",
    "- 在Python中 变量名或者函数名使用双下划线代表私有  \\__Joker,   def \\__Joker():\n",
    "- 私有数据域不可继承\n",
    "- 私有数据域强制继承   \\__dir__()"
   ]
  },
  {
   "cell_type": "markdown",
   "metadata": {},
   "source": [
    "![](../Photo/87.png)"
   ]
  },
  {
   "cell_type": "markdown",
   "metadata": {},
   "source": [
    "# d"
   ]
  },
  {
   "cell_type": "markdown",
   "metadata": {},
   "source": [
    "## EP:\n",
    "![](../Photo/88.png)\n",
    "![](../Photo/89.png)\n",
    "![](../Photo/90.png)\n"
   ]
  },
  {
   "cell_type": "markdown",
   "metadata": {},
   "source": [
    "## 类的其他\n",
    "- 类的封装\n",
    "    - 实际上就是将一类功能放在一起，方便未来进行管理\n",
    "- 类的继承（上面已经讲过）\n",
    "- 类的多态\n",
    "    - 包括装饰器：将放在以后处理高级类中教\n",
    "    - 装饰器的好处：当许多类中的函数需要使用同一个功能的时候，那么使用装饰器就会方便许多\n",
    "    - 装饰器是有固定的写法\n",
    "        - 其包括普通装饰器与带参装饰器"
   ]
  },
  {
   "cell_type": "markdown",
   "metadata": {},
   "source": [
    "# Homewor\n",
    "## UML类图可以不用画\n",
    "## UML 实际上就是一个思维图\n",
    "- 1\n",
    "![](../Photo/91.png)"
   ]
  },
  {
   "cell_type": "code",
   "execution_count": 21,
   "metadata": {},
   "outputs": [],
   "source": [
    "class rectangle():\n",
    "    def __init__(self):\n",
    "        self.width = 1\n",
    "        self.height = 2\n",
    "        \"\"\"\n",
    "        \n",
    "        \n",
    "        \"\"\"\n",
    "    def getarea(self):\n",
    "        return self.width * self.height\n",
    "    def getperimeter(self):\n",
    "        return self.width*2 + self.height*2"
   ]
  },
  {
   "cell_type": "code",
   "execution_count": 22,
   "metadata": {},
   "outputs": [],
   "source": [
    "z = rectangle()"
   ]
  },
  {
   "cell_type": "code",
   "execution_count": 23,
   "metadata": {},
   "outputs": [
    {
     "data": {
      "text/plain": [
       "2"
      ]
     },
     "execution_count": 23,
     "metadata": {},
     "output_type": "execute_result"
    }
   ],
   "source": [
    "z.getarea()"
   ]
  },
  {
   "cell_type": "code",
   "execution_count": 24,
   "metadata": {},
   "outputs": [
    {
     "data": {
      "text/plain": [
       "6"
      ]
     },
     "execution_count": 24,
     "metadata": {},
     "output_type": "execute_result"
    }
   ],
   "source": [
    "z.getperimeter()"
   ]
  },
  {
   "cell_type": "markdown",
   "metadata": {},
   "source": [
    "- 2\n",
    "![](../Photo/92.png)"
   ]
  },
  {
   "cell_type": "code",
   "execution_count": 1,
   "metadata": {},
   "outputs": [],
   "source": [
    "class account():\n",
    "    def __init__(self):\n",
    "        self.__id = 1122\n",
    "        self.__balance = 20000\n",
    "        self.__annual = 4.5\n",
    "        print('用户',self.__id)\n",
    "        print('金额',self.__balance)\n",
    "    def getmonthlyrate(self):\n",
    "        print('月利率',self.__annual/100 /12)\n",
    "    def getmonthly(self):\n",
    "        print('月利息',self.__balance * (self.__annual/100 /12))\n",
    "    def withdraw(self):\n",
    "        self.quzou = eval(input('取走多少钱'))\n",
    "        print(self.__balance-self.quzou)\n",
    "    def deposit(self):\n",
    "        self.cunru = eval(input('存入多少钱'))\n",
    "        print(self.__balance-self.quzou+self.cunru)\n",
    "    def start(self):\n",
    "        self.getmonthlyrate()\n",
    "        self.getmonthly()\n",
    "        self.withdraw()\n",
    "        self.deposit()"
   ]
  },
  {
   "cell_type": "code",
   "execution_count": 2,
   "metadata": {},
   "outputs": [
    {
     "name": "stdout",
     "output_type": "stream",
     "text": [
      "用户 1122\n",
      "金额 20000\n"
     ]
    }
   ],
   "source": [
    "z = account()\n"
   ]
  },
  {
   "cell_type": "code",
   "execution_count": 3,
   "metadata": {},
   "outputs": [
    {
     "name": "stdout",
     "output_type": "stream",
     "text": [
      "月利率 0.00375\n",
      "月利息 75.0\n",
      "取走多少钱2500\n",
      "17500\n",
      "存入多少钱3000\n",
      "20500\n"
     ]
    }
   ],
   "source": [
    "z.start()"
   ]
  },
  {
   "cell_type": "markdown",
   "metadata": {},
   "source": [
    "### - 3\n",
    "![](../Photo/93.png)"
   ]
  },
  {
   "cell_type": "code",
   "execution_count": 16,
   "metadata": {},
   "outputs": [],
   "source": [
    "class fan():\n",
    "    def __init__(self):\n",
    "        self.slow = 1\n",
    "        self.medium = 2\n",
    "        self.fast = 3\n",
    "    def fan1(self):\n",
    "        self.speed = input('风扇速度')\n",
    "        self.on = input('是否打开')\n",
    "        self.radius = eval(input('风扇半径：'))\n",
    "        self.color = input('颜色：')\n",
    "        return self.speed,self.on,self.radius,self.color \n",
    "    def fan2(self):\n",
    "        self.speed = input('风扇速度：')\n",
    "        self.on = input('是否打开：')\n",
    "        self.radius = eval(input('风扇半径：'))\n",
    "        self.color = input('颜色：')\n",
    "        return self.speed,self.on,self.radius,self.color "
   ]
  },
  {
   "cell_type": "code",
   "execution_count": 17,
   "metadata": {},
   "outputs": [],
   "source": [
    "z = fan()"
   ]
  },
  {
   "cell_type": "code",
   "execution_count": 18,
   "metadata": {},
   "outputs": [
    {
     "name": "stdout",
     "output_type": "stream",
     "text": [
      "风扇速度zuida\n",
      "是否打开on\n",
      "风扇半径：10\n",
      "颜色：yellow\n"
     ]
    },
    {
     "data": {
      "text/plain": [
       "('zuida', 'on', 10, 'yellow')"
      ]
     },
     "execution_count": 18,
     "metadata": {},
     "output_type": "execute_result"
    }
   ],
   "source": [
    "z.fan1()"
   ]
  },
  {
   "cell_type": "code",
   "execution_count": 19,
   "metadata": {},
   "outputs": [
    {
     "name": "stdout",
     "output_type": "stream",
     "text": [
      "风扇速度：zhongsu\n",
      "是否打开：flase\n",
      "风扇半径：5\n",
      "颜色：blue\n"
     ]
    },
    {
     "data": {
      "text/plain": [
       "('zhongsu', 'flase', 5, 'blue')"
      ]
     },
     "execution_count": 19,
     "metadata": {},
     "output_type": "execute_result"
    }
   ],
   "source": [
    "z.fan2()"
   ]
  },
  {
   "cell_type": "markdown",
   "metadata": {},
   "source": [
    "- 4\n",
    "![](../Photo/94.png)\n",
    "![](../Photo/95.png)"
   ]
  },
  {
   "cell_type": "code",
   "execution_count": 12,
   "metadata": {},
   "outputs": [],
   "source": [
    "import math\n",
    "class N():\n",
    "    def __init__(self):\n",
    "        self.n = eval(input('边数'))\n",
    "        self.side = eval(input('边长'))\n",
    "    def getPerimeter(self):\n",
    "        c = self.n * self.side\n",
    "        return c\n",
    "    def getArea(self):\n",
    "        s = (self.n * (self.side ** 2))/ 4 * math.tan(math.pi/self.n)\n",
    "        return s\n",
    "        "
   ]
  },
  {
   "cell_type": "code",
   "execution_count": 13,
   "metadata": {},
   "outputs": [
    {
     "name": "stdout",
     "output_type": "stream",
     "text": [
      "边数3\n",
      "边长1\n"
     ]
    }
   ],
   "source": [
    "z = N()"
   ]
  },
  {
   "cell_type": "code",
   "execution_count": 14,
   "metadata": {},
   "outputs": [
    {
     "data": {
      "text/plain": [
       "3"
      ]
     },
     "execution_count": 14,
     "metadata": {},
     "output_type": "execute_result"
    }
   ],
   "source": [
    "z.getPerimeter()"
   ]
  },
  {
   "cell_type": "code",
   "execution_count": 15,
   "metadata": {},
   "outputs": [
    {
     "data": {
      "text/plain": [
       "1.2990381056766576"
      ]
     },
     "execution_count": 15,
     "metadata": {},
     "output_type": "execute_result"
    }
   ],
   "source": [
    "z.getArea()"
   ]
  },
  {
   "cell_type": "markdown",
   "metadata": {},
   "source": [
    "- 5\n",
    "![](../Photo/96.png)"
   ]
  },
  {
   "cell_type": "code",
   "execution_count": 5,
   "metadata": {},
   "outputs": [],
   "source": [
    "class Linear():\n",
    "    def __init__(self):\n",
    "        self.a = eval(input('输入一个数'))\n",
    "        self.b = eval(input('输入一个数'))\n",
    "        self.c = eval(input('输入一个数'))\n",
    "        self.d = eval(input('输入一个数'))\n",
    "        self.e = eval(input('输入一个数'))\n",
    "        self.f = eval(input('输入一个数'))\n",
    "    def isSolvable(self):\n",
    "        if self.a * self.d - self.b * self.c == 0:\n",
    "            print('这个方程式无解')\n",
    "        else:\n",
    "            print('true')\n",
    "    def X(self):\n",
    "        x = (self.e * self.d - self.b * self.f) / (self.a * self.d - self.b * self.c)\n",
    "        print(x)\n",
    "    def Y(self):\n",
    "        y = (self.a * self.f - self.e * self.c) / (self.a * self.d - self.b * self.c)\n",
    "        print(y)    "
   ]
  },
  {
   "cell_type": "code",
   "execution_count": 8,
   "metadata": {},
   "outputs": [
    {
     "name": "stdout",
     "output_type": "stream",
     "text": [
      "输入一个数6\n",
      "输入一个数7\n",
      "输入一个数1\n",
      "输入一个数2\n",
      "输入一个数3\n",
      "输入一个数4\n"
     ]
    }
   ],
   "source": [
    "z = Linear()"
   ]
  },
  {
   "cell_type": "code",
   "execution_count": 9,
   "metadata": {},
   "outputs": [
    {
     "name": "stdout",
     "output_type": "stream",
     "text": [
      "true\n"
     ]
    }
   ],
   "source": [
    "z.isSolvable()"
   ]
  },
  {
   "cell_type": "code",
   "execution_count": 10,
   "metadata": {},
   "outputs": [
    {
     "name": "stdout",
     "output_type": "stream",
     "text": [
      "-4.4\n"
     ]
    }
   ],
   "source": [
    "z.X()"
   ]
  },
  {
   "cell_type": "code",
   "execution_count": 11,
   "metadata": {},
   "outputs": [
    {
     "name": "stdout",
     "output_type": "stream",
     "text": [
      "4.2\n"
     ]
    }
   ],
   "source": [
    "z.Y()"
   ]
  },
  {
   "cell_type": "markdown",
   "metadata": {},
   "source": [
    "- 6\n",
    "![](../Photo/97.png)"
   ]
  },
  {
   "cell_type": "code",
   "execution_count": null,
   "metadata": {},
   "outputs": [],
   "source": [
    "def "
   ]
  },
  {
   "cell_type": "markdown",
   "metadata": {},
   "source": [
    "- 7\n",
    "![](../Photo/98.png)"
   ]
  }
 ],
 "metadata": {
  "kernelspec": {
   "display_name": "Python 3",
   "language": "python",
   "name": "python3"
  },
  "language_info": {
   "codemirror_mode": {
    "name": "ipython",
    "version": 3
   },
   "file_extension": ".py",
   "mimetype": "text/x-python",
   "name": "python",
   "nbconvert_exporter": "python",
   "pygments_lexer": "ipython3",
   "version": "3.7.3"
  }
 },
 "nbformat": 4,
 "nbformat_minor": 2
}
