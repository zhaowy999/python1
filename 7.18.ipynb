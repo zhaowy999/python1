{
 "cells": [
  {
   "cell_type": "markdown",
   "metadata": {},
   "source": [
    "# 选择\n",
    "## 布尔类型、数值和表达式\n",
    "![](../Photo/33.png)\n",
    "- 注意：比较运算符的相等是两个等号，一个等到代表赋值\n",
    "- 在Python中可以用整型0来代表False，其他数字来代表True\n",
    "- 后面还会讲到 is 在判断语句中的用发"
   ]
  },
  {
   "cell_type": "code",
   "execution_count": 2,
   "metadata": {},
   "outputs": [
    {
     "data": {
      "text/plain": [
       "True"
      ]
     },
     "execution_count": 2,
     "metadata": {},
     "output_type": "execute_result"
    }
   ],
   "source": [
    "a = 1\n",
    "b = 1\n",
    "a==b"
   ]
  },
  {
   "cell_type": "code",
   "execution_count": 3,
   "metadata": {},
   "outputs": [
    {
     "data": {
      "text/plain": [
       "False"
      ]
     },
     "execution_count": 3,
     "metadata": {},
     "output_type": "execute_result"
    }
   ],
   "source": [
    "a=1\n",
    "b=0\n",
    "a==b"
   ]
  },
  {
   "cell_type": "code",
   "execution_count": 4,
   "metadata": {},
   "outputs": [
    {
     "data": {
      "text/plain": [
       "False"
      ]
     },
     "execution_count": 4,
     "metadata": {},
     "output_type": "execute_result"
    }
   ],
   "source": [
    "a=1\n",
    "b='1'\n",
    "a==b"
   ]
  },
  {
   "cell_type": "code",
   "execution_count": 5,
   "metadata": {},
   "outputs": [
    {
     "data": {
      "text/plain": [
       "False"
      ]
     },
     "execution_count": 5,
     "metadata": {},
     "output_type": "execute_result"
    }
   ],
   "source": [
    "a='1'\n",
    "b='2'\n",
    "a==b"
   ]
  },
  {
   "cell_type": "code",
   "execution_count": 6,
   "metadata": {},
   "outputs": [
    {
     "data": {
      "text/plain": [
       "True"
      ]
     },
     "execution_count": 6,
     "metadata": {},
     "output_type": "execute_result"
    }
   ],
   "source": [
    "a='1'\n",
    "b='2'    #int型和字符串不能比较\n",
    "a<b"
   ]
  },
  {
   "cell_type": "code",
   "execution_count": 7,
   "metadata": {},
   "outputs": [
    {
     "data": {
      "text/plain": [
       "False"
      ]
     },
     "execution_count": 7,
     "metadata": {},
     "output_type": "execute_result"
    }
   ],
   "source": [
    "a='Jas'\n",
    "b='add'\n",
    "a>b"
   ]
  },
  {
   "cell_type": "markdown",
   "metadata": {},
   "source": [
    "## 字符串的比较使用ASCII值"
   ]
  },
  {
   "cell_type": "markdown",
   "metadata": {},
   "source": [
    "## Markdown \n",
    "- https://github.com/younghz/Markdown"
   ]
  },
  {
   "cell_type": "markdown",
   "metadata": {},
   "source": [
    "## EP:\n",
    "- <img src=\"../Photo/34.png\"></img>\n",
    "- 输入一个数字，判断其实奇数还是偶数"
   ]
  },
  {
   "cell_type": "code",
   "execution_count": 8,
   "metadata": {},
   "outputs": [
    {
     "data": {
      "text/plain": [
       "1"
      ]
     },
     "execution_count": 8,
     "metadata": {},
     "output_type": "execute_result"
    }
   ],
   "source": [
    "\n",
    "int(True)"
   ]
  },
  {
   "cell_type": "code",
   "execution_count": 9,
   "metadata": {
    "scrolled": true
   },
   "outputs": [
    {
     "data": {
      "text/plain": [
       "0"
      ]
     },
     "execution_count": 9,
     "metadata": {},
     "output_type": "execute_result"
    }
   ],
   "source": [
    "int(False)"
   ]
  },
  {
   "cell_type": "code",
   "execution_count": null,
   "metadata": {},
   "outputs": [
    {
     "data": {
      "text/plain": [
       "True"
      ]
     },
     "execution_count": 10,
     "metadata": {},
     "output_type": "execute_result"
    }
   ],
   "source": [
    "bool(4)"
   ]
  },
  {
   "cell_type": "code",
   "execution_count": null,
   "metadata": {
    "scrolled": true
   },
   "outputs": [
    {
     "data": {
      "text/plain": [
       "False"
      ]
     },
     "execution_count": 11,
     "metadata": {},
     "output_type": "execute_result"
    }
   ],
   "source": [
    "bool(0)"
   ]
  },
  {
   "cell_type": "code",
   "execution_count": null,
   "metadata": {},
   "outputs": [],
   "source": [
    "x=eval(input('输入一个数'))\n",
    "if x%2==0:\n",
    "    print(x,'是偶数')\n",
    "else:\n",
    "    print(x,'是奇数')"
   ]
  },
  {
   "cell_type": "code",
   "execution_count": null,
   "metadata": {},
   "outputs": [],
   "source": [
    "x=eval(input('输入一个数'))\n",
    "if bool(x%2):\n",
    "    print(x,'是奇数')\n",
    "else:\n",
    "    print(x,'是偶数')"
   ]
  },
  {
   "cell_type": "markdown",
   "metadata": {},
   "source": [
    "## 产生随机数字\n",
    "- 函数random.randint(a,b) 可以用来产生一个a和b之间且包括a和b的随机整数"
   ]
  },
  {
   "cell_type": "code",
   "execution_count": null,
   "metadata": {},
   "outputs": [],
   "source": [
    "import random"
   ]
  },
  {
   "cell_type": "code",
   "execution_count": null,
   "metadata": {},
   "outputs": [],
   "source": [
    "random.randint(2,3)"
   ]
  },
  {
   "cell_type": "markdown",
   "metadata": {},
   "source": [
    "## 产生一个随机数，你去输入，如果你输入的数大于随机数，那么就告诉你太大了，反之，太小了，\n",
    "然后你一直输入，知道它满意为止"
   ]
  },
  {
   "cell_type": "code",
   "execution_count": null,
   "metadata": {},
   "outputs": [],
   "source": [
    "x=random.randint(0,10)"
   ]
  },
  {
   "cell_type": "code",
   "execution_count": null,
   "metadata": {},
   "outputs": [],
   "source": [
    "import os"
   ]
  },
  {
   "cell_type": "code",
   "execution_count": null,
   "metadata": {},
   "outputs": [],
   "source": [
    "while 1:\n",
    "    y = eval(input('数'))\n",
    "    if y>x:\n",
    "        print('太大了')\n",
    "    if y<x:\n",
    "        print('太小了')\n",
    "    if y==x:\n",
    "        print('满意')\n",
    "        break"
   ]
  },
  {
   "cell_type": "markdown",
   "metadata": {},
   "source": [
    "#  其他random方法\n",
    "- random.random 返回0.0到1.0之间前闭后开区间的随机浮点\n",
    "- random.randrange(a,b) 前闭后开"
   ]
  },
  {
   "cell_type": "code",
   "execution_count": null,
   "metadata": {},
   "outputs": [],
   "source": [
    "random.random()"
   ]
  },
  {
   "cell_type": "markdown",
   "metadata": {},
   "source": [
    "# EP：\n",
    "- 产生两个随机整数number1和number2，然后显示给用户，使用户输入数字的和，并判定其是否正确\n",
    "- 进阶:写一个随机序号点名程序"
   ]
  },
  {
   "cell_type": "code",
   "execution_count": null,
   "metadata": {},
   "outputs": [],
   "source": [
    "import random\n",
    "x = random.randint(0,10)\n",
    "y = random.randint(0,10)\n",
    "print(x)\n",
    "print(y)"
   ]
  },
  {
   "cell_type": "code",
   "execution_count": null,
   "metadata": {},
   "outputs": [],
   "source": [
    "for i in range(5):                      #运行5次 后没猜中就结束。\n",
    "    a = eval(input())\n",
    "    if a == x + y:\n",
    "        print('ture')\n",
    "        break\n",
    "    else:\n",
    "            print('false')    "
   ]
  },
  {
   "cell_type": "code",
   "execution_count": null,
   "metadata": {},
   "outputs": [],
   "source": [
    "for i in range(10):\n",
    "    print(i)"
   ]
  },
  {
   "cell_type": "markdown",
   "metadata": {},
   "source": [
    "#属于一个数字6\n",
    "#你输入的数字可以整除2和3"
   ]
  },
  {
   "cell_type": "code",
   "execution_count": null,
   "metadata": {},
   "outputs": [],
   "source": [
    "x = eval(input('x'))\n",
    "for i in range(2,x):\n",
    "    if x%i == 0:\n",
    "        print(i,'可以整出')"
   ]
  },
  {
   "cell_type": "markdown",
   "metadata": {},
   "source": [
    "## if语句\n",
    "- 如果条件正确就执行一个单向if语句，亦即当条件为真的时候才执行if内部的语句\n",
    "- Python有很多选择语句:\n",
    "> - 单向if \n",
    "  - 双向if-else\n",
    "  - 嵌套if\n",
    "  - 多向if-elif-else\n",
    "  \n",
    "- 注意：当语句含有子语句的时候，那么一定至少要有一个缩进，也就是说如果有儿子存在，那么一定要缩进\n",
    "- 切记不可tab键和space混用，单用tab 或者 space\n",
    "- 当你输出的结果是无论if是否为真时都需要显示时，语句应该与if对齐"
   ]
  },
  {
   "cell_type": "code",
   "execution_count": null,
   "metadata": {},
   "outputs": [],
   "source": [
    "x=eval(input('输入一个数'))\n",
    "if x%2==0:\n",
    "    print(x,'是偶数')\n",
    "else:\n",
    "    print(x,'是奇数')\n",
    "print('运行完毕')"
   ]
  },
  {
   "cell_type": "markdown",
   "metadata": {},
   "source": [
    "## EP：\n",
    "- 用户输入一个数字，判断其实奇数还是偶数\n",
    "- 进阶：可以查看下4.5实例研究猜生日"
   ]
  },
  {
   "cell_type": "markdown",
   "metadata": {},
   "source": [
    "## 双向if-else 语句\n",
    "- 如果条件为真，那么走if内部语句，否则走else内部语句"
   ]
  },
  {
   "cell_type": "code",
   "execution_count": 9,
   "metadata": {},
   "outputs": [
    {
     "name": "stdout",
     "output_type": "stream",
     "text": [
      "money[y/n]y\n",
      "再问一个问题\n",
      "handsome[y/n]y\n",
      "最关键的问题\n",
      "jiehun[y/n]n\n",
      "马上结婚\n"
     ]
    }
   ],
   "source": [
    "money = input('money[y/n]')\n",
    "if money == 'y':\n",
    "    print('再问一个问题')\n",
    "    handsome = input('handsome[y/n]')\n",
    "    if handsome =='y':\n",
    "        print('最关键的问题')\n",
    "        jiehun = input('jiehun[y/n]')\n",
    "        if jiehun == 'y':\n",
    "            print('gun')\n",
    "        else:\n",
    "            print('马上结婚')         \n",
    "    else:\n",
    "        print('考虑一下')\n",
    "else:\n",
    "    print('gun')"
   ]
  },
  {
   "cell_type": "markdown",
   "metadata": {},
   "source": [
    "## EP：\n",
    "- 产生两个随机整数number1和number2，然后显示给用户，使用户输入数字，并判定其是否正确,如果正确打印“you‘re correct”，否则打印正确错误"
   ]
  },
  {
   "cell_type": "markdown",
   "metadata": {},
   "source": [
    "## 嵌套if 和多向if-elif-else\n",
    "![](../Photo/35.png)"
   ]
  },
  {
   "cell_type": "markdown",
   "metadata": {},
   "source": [
    "## EP：\n",
    "- 提示用户输入一个年份，然后显示表示这一年的动物\n",
    "![](../Photo/36.png)\n",
    "- 计算身体质量指数的程序\n",
    "- BMI = 以千克为单位的体重除以以米为单位的身高的平方\n",
    "![](../Photo/37.png)"
   ]
  },
  {
   "cell_type": "code",
   "execution_count": 2,
   "metadata": {},
   "outputs": [
    {
     "name": "stdout",
     "output_type": "stream",
     "text": [
      "年份23\n",
      "yang\n"
     ]
    }
   ],
   "source": [
    "year = eval(input('年份'))\n",
    "a = year % 12\n",
    "if a == 0:\n",
    "    print('hou')\n",
    "elif a == 1:\n",
    "    print('ji')\n",
    "elif a == 2:\n",
    "    print('gou')\n",
    "elif a == 3:\n",
    "    print('zhu')\n",
    "elif a == 4:\n",
    "    print('shu')\n",
    "elif a == 5:\n",
    "    print('niu')\n",
    "elif a == 6:\n",
    "    print('hu')\n",
    "elif a == 7:\n",
    "    print('tu')\n",
    "elif a == 8:\n",
    "    print('long')\n",
    "elif a == 9:\n",
    "    print('she')\n",
    "elif a == 10:\n",
    "    print('ma')\n",
    "else:\n",
    "    a == 11\n",
    "    print('yang')"
   ]
  },
  {
   "cell_type": "code",
   "execution_count": 11,
   "metadata": {},
   "outputs": [
    {
     "name": "stdout",
     "output_type": "stream",
     "text": [
      "体重kg55\n",
      "身高m1.65\n",
      "bianzhun\n"
     ]
    }
   ],
   "source": [
    "a = eval(input('体重kg'))\n",
    "b = eval(input('身高m'))\n",
    "bmi = a/(b**2)\n",
    "if bmi >= 30:\n",
    "    print('chipang')\n",
    "elif bmi>=25:\n",
    "    print('chaozhong')\n",
    "elif bmi>=18.5:\n",
    "    print('bianzhun')\n",
    "else:\n",
    "    print('guoqing')"
   ]
  },
  {
   "cell_type": "markdown",
   "metadata": {},
   "source": [
    "## 逻辑运算符\n",
    "![](../Photo/38.png)"
   ]
  },
  {
   "cell_type": "markdown",
   "metadata": {},
   "source": [
    "###### ![](../Photo/39.png)\n",
    "![](../Photo/40.png)"
   ]
  },
  {
   "cell_type": "markdown",
   "metadata": {},
   "source": [
    "## EP：\n",
    "- 判定闰年：一个年份如果能被4整除但不能被100整除，或者能被400整除，那么这个年份就是闰年\n",
    "- 提示用户输入一个年份，并返回是否是闰年\n",
    "- 提示用户输入一个数字，判断其是否为水仙花数"
   ]
  },
  {
   "cell_type": "code",
   "execution_count": 36,
   "metadata": {},
   "outputs": [
    {
     "name": "stdout",
     "output_type": "stream",
     "text": [
      "年份2009\n",
      "平年\n"
     ]
    }
   ],
   "source": [
    "a = eval(input('年份'))\n",
    "x = a % 4\n",
    "y = a % 100\n",
    "r = a % 400\n",
    "if x == 0 and y != 0 or r ==0:\n",
    "    print('闰年')\n",
    "else:\n",
    "    print('平年')"
   ]
  },
  {
   "cell_type": "code",
   "execution_count": 4,
   "metadata": {},
   "outputs": [
    {
     "name": "stdout",
     "output_type": "stream",
     "text": [
      "数字153\n",
      "水仙花\n"
     ]
    }
   ],
   "source": [
    "n = eval(input('数字'))\n",
    "bai = n // 100\n",
    "shi = n // 10 % 10\n",
    "ge = n % 10\n",
    "if bai ** 3 + shi ** 3 + ge ** 3 == n:\n",
    "    print('水仙花')"
   ]
  },
  {
   "cell_type": "code",
   "execution_count": 2,
   "metadata": {},
   "outputs": [
    {
     "name": "stdout",
     "output_type": "stream",
     "text": [
      "153 水仙花\n",
      "370 水仙花\n",
      "371 水仙花\n",
      "407 水仙花\n"
     ]
    }
   ],
   "source": [
    "for n in range(100,1000):\n",
    "   \n",
    "    bai = n // 100\n",
    "    shi = n // 10 % 10\n",
    "    ge = n % 10\n",
    "    if bai ** 3 + shi ** 3 + ge ** 3 == n:\n",
    "        print(n,'水仙花')"
   ]
  },
  {
   "cell_type": "markdown",
   "metadata": {},
   "source": [
    "## 实例研究：彩票\n",
    "![](../Photo/41.png)"
   ]
  },
  {
   "cell_type": "markdown",
   "metadata": {},
   "source": [
    "# Homework\n",
    "- 1\n",
    "![](../Photo/42.png)"
   ]
  },
  {
   "cell_type": "code",
   "execution_count": 46,
   "metadata": {},
   "outputs": [
    {
     "name": "stdout",
     "output_type": "stream",
     "text": [
      "输入三个数1,2,3\n",
      "没解\n"
     ]
    }
   ],
   "source": [
    "a,b,c = eval(input('输入三个数'))\n",
    "r1 = (-b + (b**2 - 4*a*c)**0.5)/2*a\n",
    "r2 = (-b - (b**2 - 4*a*c)**0.5)/2*a\n",
    "deter = (b**2) - (4*a*c)\n",
    "n = 0\n",
    "if deter>n: \n",
    "    print(r1,r2) \n",
    "elif deter==n:\n",
    "    print(r1)\n",
    "else:\n",
    "    print('没解')"
   ]
  },
  {
   "cell_type": "markdown",
   "metadata": {},
   "source": [
    "- 2\n",
    "![](../Photo/43.png)"
   ]
  },
  {
   "cell_type": "code",
   "execution_count": 13,
   "metadata": {},
   "outputs": [
    {
     "name": "stdout",
     "output_type": "stream",
     "text": [
      "5 55\n",
      "输入这两个数的和60\n",
      "正确\n"
     ]
    }
   ],
   "source": [
    "import random\n",
    "a = random.randint(0,100)\n",
    "b = random.randint(0,100)\n",
    "print(a,b)\n",
    "x = eval(input('输入这两个数的和'))\n",
    "if x ==a+b:\n",
    "    print('正确')\n",
    "else:\n",
    "    print('错误')"
   ]
  },
  {
   "cell_type": "markdown",
   "metadata": {},
   "source": [
    "- 3\n",
    "![](../Photo/44.png)"
   ]
  },
  {
   "cell_type": "code",
   "execution_count": 18,
   "metadata": {},
   "outputs": [
    {
     "name": "stdout",
     "output_type": "stream",
     "text": [
      "输入今天是哪天的数字12345670\n",
      "输入今天之后到未来某天的天数31\n",
      "today is 周天 and the future day is周三\n"
     ]
    }
   ],
   "source": [
    "x=eval(input('输入今天是哪天的数字1234567'))\n",
    "if x == 0:\n",
    "    b=('周天')\n",
    "elif x == 1:\n",
    "    b=('周一')\n",
    "elif x == 2:\n",
    "    b=('周二')\n",
    "elif x == 3:\n",
    "    b=('周三')\n",
    "elif x == 4:\n",
    "    b=('周四')\n",
    "elif x == 5:\n",
    "    b=('周五')\n",
    "elif x == 6:\n",
    "    b=('周六')\n",
    "a=eval(input('输入今天之后到未来某天的天数'))\n",
    "if ((x+a)%7)==0:\n",
    "    print('today is',b,'and the future day is周天')\n",
    "elif ((x+a)%7)==1:\n",
    "    print('today is',b,'and the future day is周一')\n",
    "elif ((x+a)%7)==2:\n",
    "    print('today is',b,'and the future day is周二')\n",
    "elif ((x+a)%7)==3:\n",
    "    print('today is',b,'and the future day is周三')\n",
    "elif ((x+a)%7)==4:\n",
    "    print('today is',b,'and the future day is周四')\n",
    "elif ((x+a)%7)==5:\n",
    "    print('today is',b,'and the future day is周五')\n",
    "elif ((x+a)%7)==6:\n",
    "    print('today is',b,'and the future day is周六')"
   ]
  },
  {
   "cell_type": "markdown",
   "metadata": {},
   "source": [
    "- 4\n",
    "![](../Photo/45.png)"
   ]
  },
  {
   "cell_type": "code",
   "execution_count": 49,
   "metadata": {
    "scrolled": true
   },
   "outputs": [
    {
     "name": "stdout",
     "output_type": "stream",
     "text": [
      "输入三个数0,8,1\n",
      "[0, 1, 8]\n"
     ]
    }
   ],
   "source": [
    "a,b,c=eval(input('输入三个数'))\n",
    "list=[a,b,c]\n",
    "list.sort()\n",
    "print(list)"
   ]
  },
  {
   "cell_type": "markdown",
   "metadata": {},
   "source": [
    "- 5\n",
    "![](../Photo/46.png)"
   ]
  },
  {
   "cell_type": "code",
   "execution_count": 23,
   "metadata": {},
   "outputs": [
    {
     "name": "stdout",
     "output_type": "stream",
     "text": [
      "请输入每种包装的重量和价钱50,24.59\n",
      "请输入每种包装的重量和价钱25,11.99\n",
      "2\n"
     ]
    }
   ],
   "source": [
    "a,b=eval(input('请输入每种包装的重量和价钱'))\n",
    "c,d=eval(input('请输入每种包装的重量和价钱'))\n",
    "if a/b > c/d:\n",
    "    print('1')\n",
    "else:\n",
    "    print('2')"
   ]
  },
  {
   "cell_type": "markdown",
   "metadata": {},
   "source": [
    "- 6\n",
    "![](../Photo/47.png)"
   ]
  },
  {
   "cell_type": "code",
   "execution_count": 28,
   "metadata": {},
   "outputs": [
    {
     "name": "stdout",
     "output_type": "stream",
     "text": [
      "输入月份123456.。。。2\n",
      "输入年200x2000\n",
      "2000 年 2 有29天\n"
     ]
    }
   ],
   "source": [
    "yue=eval(input('输入月份123456.。。。'))\n",
    "nian=eval(input('输入年200x'))\n",
    "if yue==1 or yue==3 or yue==5 or yue==7 or yue==8 or yue ==10 or yue==12:\n",
    "    print(nian,'年',yue,'有31天')\n",
    "elif yue==2:\n",
    "    print(nian,'年',yue,'有29天')\n",
    "else:\n",
    "    print(nian,'年',yue,'有30天')"
   ]
  },
  {
   "cell_type": "markdown",
   "metadata": {},
   "source": [
    "- 7\n",
    "![](../Photo/48.png)"
   ]
  },
  {
   "cell_type": "code",
   "execution_count": 31,
   "metadata": {},
   "outputs": [
    {
     "name": "stdout",
     "output_type": "stream",
     "text": [
      "反面\n",
      "输入正面反面【0/1】1\n",
      "zhengque\n"
     ]
    }
   ],
   "source": [
    "x = random.randint(0,1)\n",
    "if x==0:\n",
    "    print('正面')\n",
    "else:\n",
    "    print('反面')\n",
    "y = eval(input('输入正面反面【0/1】'))\n",
    "if y==x:\n",
    "    print('zhengque')\n",
    "else:\n",
    "    print('cuowu1')\n"
   ]
  },
  {
   "cell_type": "markdown",
   "metadata": {},
   "source": [
    "- 8\n",
    "![](../Photo/49.png)"
   ]
  },
  {
   "cell_type": "code",
   "execution_count": 33,
   "metadata": {},
   "outputs": [
    {
     "name": "stdout",
     "output_type": "stream",
     "text": [
      "剪刀石头布【0/1/2【1\n",
      "电脑是 0 你是 1 你赢了\n"
     ]
    }
   ],
   "source": [
    "d=random.randint(0,2)\n",
    "r=eval(input('剪刀石头布【0/1/2【'))\n",
    "if d==0 and r==0:\n",
    "    print('电脑是',d,'你是',r,'平局')\n",
    "elif d==0 and r==1:\n",
    "    print('电脑是',d,'你是',r,'你赢了')\n",
    "elif d==0 and r==2:\n",
    "    print('电脑是',d,'你是',r,'你输了')\n",
    "elif d==1 and r==0:\n",
    "    print('电脑是',d,'你是',r,'你输了')\n",
    "elif d==1 and r==1:\n",
    "    print('电脑是',d,'你是',r,'平')\n",
    "elif d==1 and r==2:\n",
    "    print('电脑是',d,'你是',r,'你赢了')\n",
    "elif d==2 and r==0:\n",
    "    print('电脑是',d,'你是',r,'你赢了')\n",
    "elif d==2 and r==1:\n",
    "    print('电脑是',d,'你是',r,'你输了')\n",
    "elif d==2 and r==2:\n",
    "    print('电脑是',d,'你是',r,'平')"
   ]
  },
  {
   "cell_type": "markdown",
   "metadata": {},
   "source": [
    "- 9\n",
    "![](../Photo/50.png)"
   ]
  },
  {
   "cell_type": "code",
   "execution_count": 50,
   "metadata": {},
   "outputs": [
    {
     "name": "stdout",
     "output_type": "stream",
     "text": [
      "(e.g.,2008):2013\n",
      "month:,(1-12:)1\n",
      "day of the month:,(1-31:)25\n",
      "Day of the week is Friday\n"
     ]
    }
   ],
   "source": [
    "year = eval(input('(e.g.,2008):'))\n",
    "m = eval(input('month:,(1-12:)'))\n",
    "q = eval(input('day of the month:,(1-31:)'))\n",
    "if m == 1:\n",
    "    m=13\n",
    "    year = year-1\n",
    "if m == 2:\n",
    "    m=14\n",
    "    year = year-1\n",
    "h = (q+int(26*(m+1)/10)+int(year%100)+int(year%100/4)+int(year/100/4)+int(5*year/100))%7\n",
    "if h==0:\n",
    "    print('Day of the week is Saturday')\n",
    "elif h==1:\n",
    "    print('Day of the week is Sunday')\n",
    "elif h==2:\n",
    "    print('Day of the week is Monday')\n",
    "elif h==3:\n",
    "     print('Day of the week is Tuesday')\n",
    "elif h==4:\n",
    "     print('Day of the week is Wednesday')\n",
    "elif h==5:\n",
    "     print('Day of the week is Thursday')\n",
    "else:\n",
    "    print('Day of the week is Friday')"
   ]
  },
  {
   "cell_type": "markdown",
   "metadata": {},
   "source": [
    "- 10\n",
    "![](../Photo/51.png)"
   ]
  },
  {
   "cell_type": "code",
   "execution_count": 53,
   "metadata": {},
   "outputs": [
    {
     "name": "stdout",
     "output_type": "stream",
     "text": [
      "The card you picked is the 2 of Club\n"
     ]
    }
   ],
   "source": [
    "x = random.randint(1,13)\n",
    "y = random.randint(1,4)\n",
    "if x == 1 and y == 1:\n",
    "    print('The card you picked is the Ace of Heart')\n",
    "elif x == 2 and y == 1:    \n",
    "    print('The card you picked is the 2 of Heart')\n",
    "elif x == 3 and y == 1:  \n",
    "    print('The card you picked is the 3 of Heart')\n",
    "elif x == 4 and y == 1:\n",
    "    print('The card you picked is the 4 of Heart')\n",
    "elif x == 5 and y == 1:\n",
    "    print('The card you picked is the 5 of Heart')\n",
    "elif x == 6 and y == 1:\n",
    "    print('The card you picked is the 6 of Heart')\n",
    "elif x == 7 and y == 1:\n",
    "    print('The card you picked is the 7 of Heart')\n",
    "elif x == 8 and y == 1:\n",
    "    print('The card you picked is the 8 of Heart')\n",
    "elif x == 9 and y == 1:\n",
    "    print('The card you picked is the 9 of Heart')\n",
    "elif x == 10 and y == 1:\n",
    "    print('The card you picked is the 10 of Heart')\n",
    "elif x == 11 and y == 1:\n",
    "    print('The card you picked is the Jack of Heart')\n",
    "elif x == 12 and y == 1:\n",
    "    print('The card you picked is the Queen of Heart')\n",
    "elif x == 13 and y == 1:\n",
    "    print('The card you picked is the King of Heart')\n",
    "elif x == 1 and y == 2:    \n",
    "    print('The card you picked is the Ace of Spade')\n",
    "elif x == 2 and y == 2:\n",
    "    print('The card you picked is the 2 of Spade')\n",
    "elif x == 3 and y == 2:\n",
    "    print('The card you picked is the 3 of Spade')\n",
    "elif x == 4 and y == 2:\n",
    "    print('The card you picked is the 4 of Spade')\n",
    "elif x == 5 and y == 2:\n",
    "    print('The card you picked is the 5 of Spade')\n",
    "elif x == 6 and y == 2:\n",
    "    print('The card you picked is the 6 of Spade')\n",
    "elif x == 7 and y == 2:\n",
    "    print('The card you picked is the 7 of Spade')\n",
    "elif x == 8 and y == 2:\n",
    "    print('The card you picked is the 8 of Spade')\n",
    "elif x == 9 and y == 2:\n",
    "    print('The card you picked is the 9 of Spade')\n",
    "elif x == 10 and y == 2:\n",
    "    print('The card you picked is the 10 of Spade')\n",
    "elif x == 11 and y == 2:\n",
    "    print('The card you picked is the Jack of Spade')\n",
    "elif x == 12 and y == 2:\n",
    "    print('The card you picked is the Queen of Spade')\n",
    "elif x == 13 and y == 2:\n",
    "    print('The card you picked is the King of Spade')\n",
    "elif x == 1 and y == 3:\n",
    "    print('The card you picked is the Ace of Diamond')\n",
    "elif x == 2 and y == 3:    \n",
    "    print('The card you picked is the 2 of Diamond')\n",
    "elif x == 3 and y == 3:  \n",
    "    print('The card you picked is the 3 of Diamond')\n",
    "elif x == 4 and y == 3:\n",
    "    print('The card you picked is the 4 of Diamond')\n",
    "elif x == 5 and y == 3:\n",
    "    print('The card you picked is the 5 of Diamond')\n",
    "elif x == 6 and y == 3:\n",
    "    print('The card you picked is the 6 of Diamond')\n",
    "elif x == 7 and y == 3:\n",
    "    print('The card you picked is the 7 of Diamond')\n",
    "elif x == 8 and y == 3:\n",
    "    print('The card you picked is the 8 of Diamond')\n",
    "elif x == 9 and y == 3:\n",
    "    print('The card you picked is the 9 of Diamond')\n",
    "elif x == 10 and y == 3:\n",
    "    print('The card you picked is the 10 of Diamond')\n",
    "elif x == 11 and y == 3:\n",
    "    print('The card you picked is the Jack of Diamond')\n",
    "elif x == 12 and y == 3:\n",
    "    print('The card you picked is the Queen of Diamond')\n",
    "elif x == 13 and y == 3:\n",
    "    print('The card you picked is the King of Diamond')\n",
    "elif x == 1 and y == 4:\n",
    "    print('The card you picked is the Ace of Club')\n",
    "elif x == 2 and y == 4:    \n",
    "    print('The card you picked is the 2 of Club')\n",
    "elif x == 3 and y == 4:  \n",
    "    print('The card you picked is the 3 of Club')\n",
    "elif x == 4 and y == 4:\n",
    "    print('The card you picked is the 4 of Club')\n",
    "elif x == 5 and y == 4:\n",
    "    print('The card you picked is the 5 of Club')\n",
    "elif x == 6 and y == 4:\n",
    "    print('The card you picked is the 6 of Club')\n",
    "elif x == 7 and y == 4:\n",
    "    print('The card you picked is the 7 of Club')\n",
    "elif x == 8 and y == 4:\n",
    "    print('The card you picked is the 8 of Club')\n",
    "elif x == 9 and y == 4:\n",
    "    print('The card you picked is the 9 of Club')\n",
    "elif x == 10 and y == 4:\n",
    "    print('The card you picked is the 10 of Club')\n",
    "elif x == 11 and y == 4:\n",
    "    print('The card you picked is the Jack of Club')\n",
    "elif x == 12 and y == 4:\n",
    "    print('The card you picked is the Queen of Club')\n",
    "elif x == 13 and y == 4:\n",
    "    print('The card you picked is the King of Club')"
   ]
  },
  {
   "cell_type": "markdown",
   "metadata": {},
   "source": [
    "- 11\n",
    "![](../Photo/52.png)"
   ]
  },
  {
   "cell_type": "code",
   "execution_count": 38,
   "metadata": {},
   "outputs": [
    {
     "name": "stdout",
     "output_type": "stream",
     "text": [
      "输入一个三位数123\n",
      "bushi\n"
     ]
    }
   ],
   "source": [
    "x = eval(input('输入一个三位数'))\n",
    "if x%10==x//100:\n",
    "    print('shi')\n",
    "else:\n",
    "    print('bushi')"
   ]
  },
  {
   "cell_type": "markdown",
   "metadata": {},
   "source": [
    "- 12\n",
    "![](../Photo/53.png)"
   ]
  },
  {
   "cell_type": "code",
   "execution_count": 34,
   "metadata": {},
   "outputs": [
    {
     "name": "stdout",
     "output_type": "stream",
     "text": [
      "输入三角形的三个遍长1,1,1\n",
      "3\n"
     ]
    }
   ],
   "source": [
    "a,b,c=eval(input('输入三角形的三个遍长'))\n",
    "if a+b>c or a+c>b or b+c>a:\n",
    "    print(a+b+c)\n",
    "else:\n",
    "    print('feifade')"
   ]
  }
 ],
 "metadata": {
  "kernelspec": {
   "display_name": "Python 3",
   "language": "python",
   "name": "python3"
  },
  "language_info": {
   "codemirror_mode": {
    "name": "ipython",
    "version": 3
   },
   "file_extension": ".py",
   "mimetype": "text/x-python",
   "name": "python",
   "nbconvert_exporter": "python",
   "pygments_lexer": "ipython3",
   "version": "3.7.3"
  }
 },
 "nbformat": 4,
 "nbformat_minor": 2
}
